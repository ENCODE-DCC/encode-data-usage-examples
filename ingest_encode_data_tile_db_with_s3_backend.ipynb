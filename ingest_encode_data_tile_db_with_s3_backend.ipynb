{
 "cells": [
  {
   "cell_type": "markdown",
   "metadata": {},
   "source": [
    "![encodelogo](images/encodelogo.gif)"
   ]
  },
  {
   "cell_type": "markdown",
   "metadata": {},
   "source": [
    "This notebook demonstrates ingesting an ENCODE bigWig into a TileDB dense array with an Amazon S3 backend."
   ]
  },
  {
   "cell_type": "markdown",
   "metadata": {},
   "source": [
    "# Why use TileDB?\n",
    "With TileDB you gain the ability to quickly query array-structured data using rectangular slices, update existing arrays with new or changed data, and easily optimize your physical data organization for maximizing compression and read performance."
   ]
  },
  {
   "cell_type": "markdown",
   "metadata": {},
   "source": [
    "# What is bigWig?\n",
    "BigWig is a widely used format for representing various types of genetic signals. Applications range from visualization to machine learning. For the file type definition see: https://genome.ucsc.edu/goldenPath/help/bigWig.html."
   ]
  },
  {
   "cell_type": "markdown",
   "metadata": {},
   "source": [
    "# How to configure S3 backend\n",
    "In this example we will use *s3://tile-db-test* as the bucket and *us-west-2* as the region. See https://docs.tiledb.io/en/stable/tutorials/working-with-s3.html for details. "
   ]
  },
  {
   "cell_type": "code",
   "execution_count": 1,
   "metadata": {},
   "outputs": [],
   "source": [
    "s3_base_url = 's3://tile-db-test/'"
   ]
  },
  {
   "cell_type": "markdown",
   "metadata": {},
   "source": [
    "# Open bigWig with pyBigWig\n",
    "ENCODE bigWig files can be accessed from *s3://encode-public*. *pyBigWig* can open files directly from URLs."
   ]
  },
  {
   "cell_type": "code",
   "execution_count": 2,
   "metadata": {},
   "outputs": [],
   "source": [
    "import pyBigWig\n",
    "bw = pyBigWig.open(\n",
    "'https://encode-public.s3.amazonaws.com/2019/02/15/d5c222de-f74d-4ac7-b056-b3b5d159c773/ENCFF111MVN.bigWig'\n",
    ")\n",
    "bw_base_name = 'ENCFF111MVN'\n",
    "chrom_info = bw.chroms()"
   ]
  },
  {
   "cell_type": "markdown",
   "metadata": {},
   "source": [
    "# Write data to tileDB\n",
    "After setting up AWS_ACCESS_KEY_ID and AWS_SECRET_ACCESS_KEY environment variables, the required configuration is minimal. The only thing that needs to be set is the bucket region. Everything else works out of the box."
   ]
  },
  {
   "cell_type": "code",
   "execution_count": null,
   "metadata": {},
   "outputs": [],
   "source": [
    "import tiledb\n",
    "import numpy as np\n",
    "\n",
    "# Configure the region.\n",
    "config = tiledb.Config()\n",
    "config['vfs.s3.region'] = 'us-west-2'\n",
    "\n",
    "# Set the address for the base url where the arrays will\n",
    "# be written. There is going to be an array per chromosome.\n",
    "tiledb_s3_baseaddress = s3_base_url + bw_base_name + '/'\n",
    "\n",
    "# Start building the TileDB.\n",
    "ctx = tiledb.Ctx(config)\n",
    "\n",
    "def write_array_to_tiledb(array, url, ctx, default_tile_size=9000,\n",
    "                          compressor='gzip', compression_level=-1):\n",
    "    size = array.shape[0]\n",
    "    tile_size = min(size, default_tile_size)\n",
    "    tiledb_dim = tiledb.Dim(\n",
    "        ctx,\n",
    "        name='genome_coordinate',\n",
    "        domain=(0, size - 1),\n",
    "        tile=tile_size,\n",
    "        dtype='uint32'\n",
    "    )\n",
    "    tiledb_dom = tiledb.Domain(ctx, tiledb_dim)\n",
    "    tiledb_attr = tiledb.Attr(\n",
    "        ctx,\n",
    "        name='signal_value',\n",
    "        compressor=(compressor, compression_level),\n",
    "        dtype='float32'\n",
    "    )\n",
    "    tiledb_schema = tiledb.ArraySchema(\n",
    "        ctx,\n",
    "        domain=tiledb_dom,\n",
    "        attrs=(tiledb_attr,),\n",
    "        cell_order='row-major',\n",
    "        tile_order='row-major'\n",
    "    )\n",
    "    tiledb.DenseArray.create(url, tiledb_schema)\n",
    "    with tiledb.DenseArray(ctx, url, mode='w') as s3array:\n",
    "        array = array.astype(np.float32)\n",
    "        s3array[:] = array"
   ]
  },
  {
   "cell_type": "markdown",
   "metadata": {},
   "source": [
    "To iterate over chromosomes and create the TileDB array in the S3 bucket takes a couple hours. Parallel processing is recommended to ingest a lot of bigWigs."
   ]
  },
  {
   "cell_type": "code",
   "execution_count": null,
   "metadata": {},
   "outputs": [],
   "source": [
    "for chrom_name, chrom_size in chrom_info.items():\n",
    "    signal_data = np.zeros(chrom_size, dtype=np.float32)\n",
    "    signal_data[:] = bw.values(chrom_name, 0, chrom_size)\n",
    "    chrom_s3_address = tiledb_s3_baseaddress + chrom_name\n",
    "    write_array_to_tiledb(signal_data, chrom_s3_address, ctx)"
   ]
  },
  {
   "cell_type": "markdown",
   "metadata": {},
   "source": [
    "We can also just push a single chromosome:"
   ]
  },
  {
   "cell_type": "code",
   "execution_count": null,
   "metadata": {},
   "outputs": [],
   "source": [
    "chr1_name = 'chr1'\n",
    "chr1_size = chrom_info['chr1']\n",
    "signal_data = np.zeros(chr1_size, dtype=np.float32)\n",
    "signal_data[:] = bw.values(chr1_name, 0 chr1_size)\n",
    "chr1_s3_address = tiledb_s3_baseaddress + chr1_name\n",
    "write_array_to_tiledb(signal_data, chr1_s3_address, ctx)"
   ]
  },
  {
   "cell_type": "markdown",
   "metadata": {},
   "source": [
    "# Query data\n",
    "After pushing the data into TileDB we can randomly access the signal very quickly:"
   ]
  },
  {
   "cell_type": "code",
   "execution_count": 7,
   "metadata": {},
   "outputs": [
    {
     "data": {
      "text/plain": [
       "array([7.36847, 7.36847, 7.36847, 7.36847, 7.36847, 7.36847, 7.36847,\n",
       "       8.42119, 8.42119, 8.42119, 8.42119, 7.36847, 7.36847, 7.36847,\n",
       "       7.36847, 7.36847, 7.36847, 7.36847, 7.36847, 7.36847, 7.36847,\n",
       "       7.36847, 7.36847, 7.36847, 7.36847, 6.31576, 6.31576, 6.31576,\n",
       "       6.31576, 6.31576, 6.31576, 6.31576, 6.31576, 6.31576, 6.31576,\n",
       "       6.31576, 6.31576, 6.31576, 6.31576, 6.31576, 6.31576, 6.31576,\n",
       "       6.31576, 6.31576, 6.31576, 6.31576, 6.31576, 6.31576, 6.31576,\n",
       "       6.31576, 6.31576, 6.31576, 6.31576, 6.31576, 5.26331, 5.26331,\n",
       "       5.26331, 5.26331, 5.26331, 5.26331, 5.26331, 5.26331, 5.26331,\n",
       "       5.26331, 5.26331, 5.26331, 5.26331, 5.26331, 5.26331, 5.26331,\n",
       "       5.26331, 5.26331, 3.74616, 3.74616, 3.74616, 3.74616, 3.74616,\n",
       "       3.74616, 3.74616, 3.74616, 3.74616, 3.74616, 3.74616, 3.74616,\n",
       "       3.74616, 3.74616, 3.74616, 3.74616, 3.74616, 3.74616, 3.74616,\n",
       "       3.74616, 2.99689, 2.99689, 2.24762, 2.24762, 1.49835, 1.49835,\n",
       "       1.49835, 1.49835], dtype=float32)"
      ]
     },
     "execution_count": 7,
     "metadata": {},
     "output_type": "execute_result"
    }
   ],
   "source": [
    "with tiledb.DenseArray(ctx, 's3://tile-db-test/ENCFF111MVN/chr1', mode='r') as s3array:\n",
    "    data = s3array[1000000:1100000]\n",
    "data['signal_value'][100:200]"
   ]
  }
 ],
 "metadata": {
  "anaconda-cloud": {},
  "kernelspec": {
   "display_name": "Python [default]",
   "language": "python",
   "name": "python3"
  },
  "language_info": {
   "codemirror_mode": {
    "name": "ipython",
    "version": 3
   },
   "file_extension": ".py",
   "mimetype": "text/x-python",
   "name": "python",
   "nbconvert_exporter": "python",
   "pygments_lexer": "ipython3",
   "version": "3.5.5"
  }
 },
 "nbformat": 4,
 "nbformat_minor": 2
}
