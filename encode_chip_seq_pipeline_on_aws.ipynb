{
 "cells": [
  {
   "cell_type": "markdown",
   "metadata": {},
   "source": [
    "![encodelogo](images/encodelogo.gif)"
   ]
  },
  {
   "cell_type": "markdown",
   "metadata": {},
   "source": [
    "## ENCODE ChIP-seq pipeline on AWS"
   ]
  },
  {
   "cell_type": "markdown",
   "metadata": {},
   "source": [
    "This notebook demonstrates how to launch the [ENCODE ChIP-seq pipeline](https://github.com/ENCODE-DCC/chip-seq-pipeline2) on AWS. The pipeline is defined in [Workflow Description Language (WDL)](https://software.broadinstitute.org/wdl/), executed by [Cromwell](https://github.com/broadinstitute/cromwell), and is meant to be reproducible across compute environments."
   ]
  },
  {
   "cell_type": "markdown",
   "metadata": {},
   "source": [
    "## Configure AWS"
   ]
  },
  {
   "cell_type": "markdown",
   "metadata": {},
   "source": [
    "First we set up our compute environment on AWS following the directions here: https://docs.opendata.aws/genomics-workflows/orchestration/cromwell/cromwell-overview/. For simplicity we deploy the *Cromwell All-in-One* stack, which requires specifying the name of the S3 bucket where we want to store our results, the maximum number of CPUs our instances can have access to, and the keypair we want to use to SSH onto the Cromwell server."
   ]
  },
  {
   "cell_type": "markdown",
   "metadata": {},
   "source": [
    "## Connect to Cromwell server"
   ]
  },
  {
   "cell_type": "markdown",
   "metadata": {},
   "source": [
    "Once the stack is created SSH onto the Cromwell server:\n",
    "```bash\n",
    "$ ssh -i </path/to/ssh/keypair.pem> ec2-user@<cromwell-server-public-dns>\n",
    "```"
   ]
  },
  {
   "cell_type": "markdown",
   "metadata": {},
   "source": [
    "Install Emacs (optional) and Git:\n",
    "```bash\n",
    "$ sudo yum install emacs\n",
    "$ sudo yum install git\n",
    "```"
   ]
  },
  {
   "cell_type": "markdown",
   "metadata": {},
   "source": [
    "Clone ChIP-seq pipeline repository:\n",
    "```bash\n",
    "$ git clone https://github.com/ENCODE-DCC/chip-seq-pipeline2.git\n",
    "```"
   ]
  },
  {
   "cell_type": "markdown",
   "metadata": {},
   "source": [
    "Build genome input into pipeline:\n",
    "```bash\n",
    "$ .chip-seq-pipeline2/genome/download_genome_data.sh hg38\n",
    "```"
   ]
  },
  {
   "cell_type": "markdown",
   "metadata": {},
   "source": [
    "## Gather ENCODE files for processing"
   ]
  },
  {
   "cell_type": "markdown",
   "metadata": {},
   "source": [
    "Here we will use [ENCSR659LJJ](https://www.encodeproject.org/experiments/ENCSR659LJJ/), which is an ENCODE ChIP-seq experiment for the [HDAC2](https://www.genecards.org/cgi-bin/carddisp.pl?gene=HDAC2) transcription factor in the [A549](https://en.wikipedia.org/wiki/A549_cell) cell line. The FASTQ files we want from this experiment are:\n",
    "\n",
    "1. [ENCFF735IUI](https://www.encodeproject.org/files/ENCFF735IUI/)\n",
    "2. [ENCFF093KEW](https://www.encodeproject.org/files/ENCFF093KEW/) \n",
    "\n",
    "We also need the files from the control experiment [ENCSR787VQB](https://www.encodeproject.org/experiments/ENCSR787VQB/) and the male genome index [ENCFF643CGH](https://www.encodeproject.org/files/ENCFF643CGH/)."
   ]
  },
  {
   "cell_type": "markdown",
   "metadata": {},
   "source": [
    "## Create input.json"
   ]
  },
  {
   "cell_type": "markdown",
   "metadata": {},
   "source": [
    "```javascript\n",
    "{\n",
    "    \"chip.pipeline_type\" : \"tf\",\n",
    "    \"chip.genome_tsv\" : \"gs://encode-pipeline-genome-data/hg38_google.tsv\",\n",
    "    \"chip.fastqs\" : [\n",
    "        [[\"s3://encode-public/2016/03/03/a3da815e-482c-429d-ba2a-d01ab1923cbf/ENCFF735IUI.fastq.gz\"]],\n",
    "        [[\"s3://encode-public/2016/03/03/6bfd3839-5f50-464f-8282-0e56b0cb27f2/ENCFF093KEW.fastq.gz\"]]\n",
    "    ],\n",
    "    \"chip.ctl_fastqs\" : [\n",
    "        [[\"s3://encode-public/2016/03/03/5a77f593-86f0-4a3c-adc1-a8dbde1183c8/ENCFF214KMN.fastq.gz\",\n",
    "          \"s3://encode-public/2016/03/03/ea2f7095-dc5c-42b9-900f-4f4b45718cb6/ENCFF343EVP.fastq.gz\"]],\n",
    "        [[\"s3://encode-public/2016/03/03/bc0b0714-aefa-4932-886f-8e9072d6ba5f/ENCFF920WNX.fastq.gz\"]]\n",
    "    ],\n",
    "    \"chip.paired_end\" : false,\n",
    "    \"chip.always_use_pooled_ctl\" : true,\n",
    "}\n",
    "```"
   ]
  },
  {
   "cell_type": "markdown",
   "metadata": {},
   "source": [
    "We can find the files paths in the `s3://encode-public` bucket by adding `?format=json` to the file URLs above and looking in the `s3_uri` field. "
   ]
  },
  {
   "cell_type": "markdown",
   "metadata": {},
   "source": [
    "## Submit job to Cromwell server\n",
    "\n",
    "```bash\n",
    "$ curl -X POST \"http://localhost:8000/api/workflows/v1\" -H  \"accept: application/json\" -F \"workflowSource=@chip-seq-pipeline2/chip.wdl\" -F \"workflowInputs=@input.json\" -F \"workflowOptions=@chip-seq-pipeline2/workflow_opts/docker.json\"\n",
    "```"
   ]
  },
  {
   "cell_type": "markdown",
   "metadata": {},
   "source": [
    "## Examine results"
   ]
  },
  {
   "cell_type": "code",
   "execution_count": null,
   "metadata": {},
   "outputs": [],
   "source": []
  },
  {
   "cell_type": "code",
   "execution_count": null,
   "metadata": {},
   "outputs": [],
   "source": []
  }
 ],
 "metadata": {
  "anaconda-cloud": {},
  "kernelspec": {
   "display_name": "Python [default]",
   "language": "python",
   "name": "python3"
  },
  "language_info": {
   "codemirror_mode": {
    "name": "ipython",
    "version": 3
   },
   "file_extension": ".py",
   "mimetype": "text/x-python",
   "name": "python",
   "nbconvert_exporter": "python",
   "pygments_lexer": "ipython3",
   "version": "3.5.5"
  }
 },
 "nbformat": 4,
 "nbformat_minor": 2
}
