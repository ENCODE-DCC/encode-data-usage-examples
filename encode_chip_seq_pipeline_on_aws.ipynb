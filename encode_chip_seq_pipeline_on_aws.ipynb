{
 "cells": [
  {
   "cell_type": "markdown",
   "metadata": {},
   "source": [
    "![encodelogo](images/encodelogo.gif)"
   ]
  },
  {
   "cell_type": "markdown",
   "metadata": {},
   "source": [
    "## ENCODE ChIP-seq pipeline on AWS"
   ]
  },
  {
   "cell_type": "markdown",
   "metadata": {},
   "source": [
    "This notebook demonstrates how to launch the ENCODE ChIP-seq pipeline on AWS. The pipeline is defined in [Workflow Description Language (WDL)](https://software.broadinstitute.org/wdl/), executed by [Cromwell](https://github.com/broadinstitute/cromwell), and is meant to be reproducible across compute environments. The full code describing the pipeline can be found at https://github.com/ENCODE-DCC/chip-seq-pipeline2."
   ]
  },
  {
   "cell_type": "markdown",
   "metadata": {},
   "source": [
    "First we set up our compute environment on AWS following the directions here: https://docs.opendata.aws/genomics-workflows/orchestration/cromwell/cromwell-overview/. For simplicity we deploy the *Cromwell All-in-One* stack, which requires specifying the name of the S3 bucket where we want to store our results, the maximum number of CPUs our instances can have access to, and the keypair we want to use to SSH onto the Cromwell server."
   ]
  },
  {
   "cell_type": "markdown",
   "metadata": {},
   "source": [
    "Once the stack is created we SSH onto the Cromwell server and create our AWS configuration file:"
   ]
  },
  {
   "cell_type": "markdown",
   "metadata": {},
   "source": [
    "```bash\n",
    "// aws.conf\n",
    "include required(classpath(\"application\"))\n",
    "\n",
    "webservice {\n",
    "    interface = localhost\n",
    "    port = 8000\n",
    "}\n",
    "\n",
    "// this stanza controls how fast Cromwell submits jobs to AWS Batch\n",
    "// and avoids running into API request limits\n",
    "system {\n",
    "    job-rate-control {\n",
    "        jobs = 1\n",
    "        per = 2 second\n",
    "    }\n",
    "}\n",
    "\n",
    "// this stanza defines how your server will authenticate with your AWS\n",
    "// account.  it is recommended to use the \"default-credential-provider\" scheme.\n",
    "aws {\n",
    "  application-name = \"cromwell\"\n",
    "  auths = [{\n",
    "      name = \"default\"\n",
    "      scheme = \"default\"\n",
    "  }]\n",
    "\n",
    "  // you must provide your operating region here - e.g. \"us-east-1\"\n",
    "  // this should be the same region your S3 bucket and AWS Batch resources\n",
    "  // are created in\n",
    "  region = \"<your-region>\"\n",
    "}\n",
    "\n",
    "engine {\n",
    "  filesystems {\n",
    "    s3 { auth = \"default\" }\n",
    "  }\n",
    "}\n",
    "\n",
    "backend {\n",
    "  // this configures the AWS Batch Backend for Cromwell\n",
    "  default = \"AWSBATCH\"\n",
    "  providers {\n",
    "    AWSBATCH {\n",
    "      actor-factory = \"cromwell.backend.impl.aws.AwsBatchBackendLifecycleActorFactory\"\n",
    "      config {\n",
    "        root = \"s3://<your-bucket-name>/cromwell-execution\"\n",
    "        auth = \"default\"\n",
    "\n",
    "        numSubmitAttempts = 3\n",
    "        numCreateDefinitionAttempts = 3\n",
    "\n",
    "        default-runtime-attributes {\n",
    "          queueArn: \"<your-queue-arn>\"\n",
    "        }\n",
    "\n",
    "        filesystems {\n",
    "          s3 {\n",
    "            auth = \"default\"\n",
    "          }\n",
    "        }\n",
    "      }\n",
    "    }\n",
    "  }\n",
    "}\n",
    "```"
   ]
  },
  {
   "cell_type": "markdown",
   "metadata": {},
   "source": [
    "The important thing here is to fill in our region, bucket name, and queue ARN. We will pass this configuration file to Cromwell along with the pipeline WDL and input files."
   ]
  },
  {
   "cell_type": "markdown",
   "metadata": {},
   "source": [
    "Next we find the replicated FASTQ files that we want to use as inputs to the pipeline. Here we will use [ENCSR659LJJ](https://www.encodeproject.org/experiments/ENCSR659LJJ/), which is an ENCODE ChIP-seq experiment for the [HDAC2](https://www.genecards.org/cgi-bin/carddisp.pl?gene=HDAC2) transcription factor in the [A549](https://en.wikipedia.org/wiki/A549_cell) cell line. The FASTQ files we want from this experiment are [ENCFF735IUI](https://www.encodeproject.org/files/ENCFF735IUI/) and [ENCFF093KEW](https://www.encodeproject.org/files/ENCFF093KEW/). We also need the files from the control experiment [ENCSR787VQB](https://www.encodeproject.org/experiments/ENCSR787VQB/) and the male genome index [ENCFF643CGH](https://www.encodeproject.org/files/ENCFF643CGH/)."
   ]
  },
  {
   "cell_type": "code",
   "execution_count": 5,
   "metadata": {},
   "outputs": [
    {
     "ename": "NameError",
     "evalue": "name 'cromwell' is not defined",
     "output_type": "error",
     "traceback": [
      "\u001b[0;31m---------------------------------------------------------------------------\u001b[0m",
      "\u001b[0;31mNameError\u001b[0m                                 Traceback (most recent call last)",
      "\u001b[0;32m<ipython-input-5-57358d8ae5fa>\u001b[0m in \u001b[0;36m<module>\u001b[0;34m()\u001b[0m\n\u001b[0;32m----> 1\u001b[0;31m \u001b[0mcromwell\u001b[0m\u001b[0;34m-\u001b[0m\u001b[0maws\u001b[0m\u001b[0;34m-\u001b[0m\u001b[0mtest\u001b[0m\u001b[0;34m-\u001b[0m\u001b[0mbucket\u001b[0m\u001b[0;34m\u001b[0m\u001b[0m\n\u001b[0m",
      "\u001b[0;31mNameError\u001b[0m: name 'cromwell' is not defined"
     ]
    }
   ],
   "source": [
    "cromwell-aws-test-bucket"
   ]
  },
  {
   "cell_type": "code",
   "execution_count": null,
   "metadata": {},
   "outputs": [],
   "source": []
  },
  {
   "cell_type": "code",
   "execution_count": null,
   "metadata": {},
   "outputs": [],
   "source": []
  }
 ],
 "metadata": {
  "anaconda-cloud": {},
  "kernelspec": {
   "display_name": "Python [default]",
   "language": "python",
   "name": "python3"
  },
  "language_info": {
   "codemirror_mode": {
    "name": "ipython",
    "version": 3
   },
   "file_extension": ".py",
   "mimetype": "text/x-python",
   "name": "python",
   "nbconvert_exporter": "python",
   "pygments_lexer": "ipython3",
   "version": "3.5.5"
  }
 },
 "nbformat": 4,
 "nbformat_minor": 2
}
