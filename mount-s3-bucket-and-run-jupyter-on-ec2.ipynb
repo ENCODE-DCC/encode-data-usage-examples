{
 "cells": [
  {
   "cell_type": "markdown",
   "metadata": {},
   "source": [
    "![encodelogo](images/encodelogo.gif)"
   ]
  },
  {
   "cell_type": "markdown",
   "metadata": {},
   "source": [
    "## Exploring ENCODE data from EC2 with Jupyter notebook"
   ]
  },
  {
   "cell_type": "markdown",
   "metadata": {},
   "source": [
    "This notebook demonstrates how to mount *s3://encode-public* using Goofys and run a Jupyter notebook from an EC2 instance. *Goofys* makes an S3 bucket appear as a normal file system, and is useful for tools that expect a local filepath. The benefit of using EC2 is that the compute is scalable to the analysis you would like to perform, and you don't have to download anything locally."
   ]
  },
  {
   "cell_type": "code",
   "execution_count": null,
   "metadata": {},
   "outputs": [],
   "source": []
  }
 ],
 "metadata": {
  "kernelspec": {
   "display_name": "Python [default]",
   "language": "python",
   "name": "python3"
  },
  "language_info": {
   "codemirror_mode": {
    "name": "ipython",
    "version": 3
   },
   "file_extension": ".py",
   "mimetype": "text/x-python",
   "name": "python",
   "nbconvert_exporter": "python",
   "pygments_lexer": "ipython3",
   "version": "3.5.5"
  }
 },
 "nbformat": 4,
 "nbformat_minor": 2
}
