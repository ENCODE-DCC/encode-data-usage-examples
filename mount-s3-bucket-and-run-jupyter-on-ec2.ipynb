{
 "cells": [
  {
   "cell_type": "markdown",
   "metadata": {},
   "source": [
    "![encodelogo](images/encodelogo.gif)"
   ]
  },
  {
   "cell_type": "markdown",
   "metadata": {},
   "source": [
    "# Exploring ENCODE data from EC2 with Jupyter notebook"
   ]
  },
  {
   "cell_type": "markdown",
   "metadata": {},
   "source": [
    "This notebook demonstrates how to mount *s3://encode-public* on an EC2 instance using Goofys, which makes an S3 bucket appear as a normal file system, and is useful for tools that expect a local file path. Once the bucket is mounted we can launch a Jupyter notebook on the instance and connect to it remotely. The benefit of using EC2 is that the compute is scalable to the analysis you would like to perform, and you don't have to download anything locally."
   ]
  },
  {
   "cell_type": "markdown",
   "metadata": {},
   "source": [
    "# Spin up instance"
   ]
  },
  {
   "cell_type": "markdown",
   "metadata": {},
   "source": [
    "We will log into our AWS console and start an EC2 instance from a base Ubuntu image (it is also possible to find images that include most of the dependencies that we will install manually below)."
   ]
  },
  {
   "cell_type": "markdown",
   "metadata": {},
   "source": [
    "1. Go to EC2 instances.\n",
    "\n",
    "![launch1](images/ec2_goofys_jupyter/launch1.png)\n",
    "\n",
    "2. Click launch instance.\n",
    "\n",
    "![launch2](images/ec2_goofys_jupyter/launch2.png)\n",
    "\n",
    "3. Choose base Ubuntu image.\n",
    "\n",
    "![launch3](images/ec2_goofys_jupyter/launch3.png)\n",
    "\n",
    "4. Choose instance type.\n",
    "\n",
    "![launch4](images/ec2_goofys_jupyter/launch4.png)\n",
    "\n",
    "5. Add key pair.\n",
    "\n",
    "![launch5](images/ec2_goofys_jupyter/launch5.png)"
   ]
  },
  {
   "cell_type": "markdown",
   "metadata": {},
   "source": [
    "For this example we will use `t2.xlarge` instance size. Make sure to provide or create a key pair for your instance so we can SSH on later."
   ]
  },
  {
   "cell_type": "markdown",
   "metadata": {},
   "source": [
    "# SSH into the instance"
   ]
  },
  {
   "cell_type": "markdown",
   "metadata": {},
   "source": [
    "Search for the instance you just created and find its public DNS."
   ]
  },
  {
   "cell_type": "markdown",
   "metadata": {},
   "source": [
    "![launch6](images/ec2_goofys_jupyter/launch6.png)"
   ]
  },
  {
   "cell_type": "markdown",
   "metadata": {},
   "source": [
    "Open a terminal and connect to the instance using SSH, filling in your secret key and instance address:\n",
    "```\n",
    "$ ssh -i ~/.ssh/keenan.pem ubuntu@ec2-54-191-241-6.us-west-2.compute.amazonaws.com\n",
    "```"
   ]
  },
  {
   "cell_type": "markdown",
   "metadata": {},
   "source": [
    "# Install dependencies"
   ]
  },
  {
   "cell_type": "markdown",
   "metadata": {},
   "source": [
    "We will install:\n",
    "\n",
    "[Anaconda](https://www.anaconda.com/distribution/)\n",
    "```\n",
    "$ curl -O https://repo.anaconda.com/archive/Anaconda3-2019.03-Linux-x86_64.sh\n",
    "$ bash Anaconda3-2019.03-Linux-x86_64.sh\n",
    "$ source ~/.bashrc\n",
    "$ conda create -n encode-public python=3.7\n",
    "$ conda activate encode-public\n",
    "```\n",
    "\n",
    "[awscli](https://github.com/aws/aws-cli)\n",
    "```\n",
    "$ pip install awscli\n",
    "```\n",
    "\n",
    "[Jupyter notebook](https://jupyter.org/)\n",
    "```\n",
    "$ conda install jupyter\n",
    "```\n",
    "\n",
    "[pandas](https://pandas.pydata.org/)\n",
    "```\n",
    "$ conda install pandas\n",
    "```\n",
    "\n",
    "[seaborn](https://seaborn.pydata.org/)\n",
    "```\n",
    "$ conda install seaborn\n",
    "```\n",
    "\n",
    "[pyBigWig](https://github.com/deeptools/pyBigWig)\n",
    "```\n",
    "$ conda install pybigwig -c bioconda\n",
    "```\n",
    "\n",
    "[Go](https://golang.org/)\n",
    "```\n",
    "$ sudo apt-get update\n",
    "$ sudo apt-get install golang-go\n",
    "```\n",
    "\n",
    "\n",
    "[Goofys](https://github.com/kahing/goofys)\n",
    "```\n",
    "$ export GOPATH=$HOME/work\n",
    "$ go get github.com/kahing/goofys\n",
    "$ go install github.com/kahing/goofys\n",
    "```\n",
    "\n",
    "[Tree](http://manpages.ubuntu.com/manpages/trusty/man1/tree.1.html)\n",
    "```\n",
    "$ sudo apt-get install tree\n",
    "```"
   ]
  },
  {
   "cell_type": "markdown",
   "metadata": {},
   "source": [
    "# Mount S3 bucket"
   ]
  },
  {
   "cell_type": "markdown",
   "metadata": {},
   "source": [
    "Goofys expects valid AWS credentials (though they don't need to have permission to do anything since we are mounting a public bucket). Run `aws configure` and enter your *aws_access_key_id*, *aws_secret_access_key*, and default region (e.g. `us-west-2`)."
   ]
  },
  {
   "cell_type": "markdown",
   "metadata": {},
   "source": [
    "Mount *s3://encode-public* to local folder called *encode-public*:"
   ]
  },
  {
   "cell_type": "markdown",
   "metadata": {},
   "source": [
    "```\n",
    "$ mkdir encode-public\n",
    "$ $GOPATH/bin/goofys encode-public/ encode-public/\n",
    "```"
   ]
  },
  {
   "cell_type": "markdown",
   "metadata": {},
   "source": [
    "# Start Jupyter notebook"
   ]
  },
  {
   "cell_type": "markdown",
   "metadata": {},
   "source": [
    "Now we can run a Jupyter notebook on the EC2 instance and connect to it remotely.\n",
    "```\n",
    "$ jupyter notebook --no-browser --port=8888\n",
    "```\n",
    "Note the token in the returned URL (e.g. http://localhost:8888/?token=213b9a2799fe83807ab9e2e1254677ed3eb82cea9d05f452)."
   ]
  },
  {
   "cell_type": "markdown",
   "metadata": {},
   "source": [
    "# Link local port to remote port"
   ]
  },
  {
   "cell_type": "markdown",
   "metadata": {},
   "source": [
    "Open another terminal window and type (again filling in your details):"
   ]
  },
  {
   "cell_type": "markdown",
   "metadata": {},
   "source": [
    "```\n",
    "$ ssh -i ~/.ssh/keenan.pem -L 8000:localhost:8888 ubuntu@ec2-54-191-241-6.us-west-2.compute.amazonaws.com\n",
    "```"
   ]
  },
  {
   "cell_type": "markdown",
   "metadata": {},
   "source": [
    "This links your local 8000 port to the Jupyter notebook running on port 8888 of your EC2 instance. Launch a browser and type in `localhost:8000`. You should see a Jupyter window asking you for the token from above."
   ]
  },
  {
   "cell_type": "markdown",
   "metadata": {},
   "source": [
    "![launch5](images/ec2_goofys_jupyter/launch7.png)"
   ]
  },
  {
   "cell_type": "markdown",
   "metadata": {},
   "source": [
    "# Create notebook"
   ]
  },
  {
   "cell_type": "markdown",
   "metadata": {},
   "source": [
    "Create a new Jupyter notebook using Python 3."
   ]
  },
  {
   "cell_type": "markdown",
   "metadata": {},
   "source": [
    "![launch8](images/ec2_goofys_jupyter/launch8.png)"
   ]
  },
  {
   "cell_type": "markdown",
   "metadata": {},
   "source": [
    "# Explore bucket structure"
   ]
  },
  {
   "cell_type": "markdown",
   "metadata": {},
   "source": [
    "In the notebook we can `ls` the *encode-public* folder to list the contents of the S3 bucket."
   ]
  },
  {
   "cell_type": "code",
   "execution_count": 1,
   "metadata": {},
   "outputs": [
    {
     "name": "stdout",
     "output_type": "stream",
     "text": [
      "2008  2010  2012  2014\t2016  2018  encode_file_manifest.tsv\r\n",
      "2009  2011  2013  2015\t2017  2019  robots.txt\r\n"
     ]
    }
   ],
   "source": [
    "!ls encode-public/"
   ]
  },
  {
   "cell_type": "markdown",
   "metadata": {},
   "source": [
    "We can see that the files are organized by year/month/day and that there is a TSV file manifest. To get a better idea of the structure we can use `tree` to recursively iterate through the 2008 files."
   ]
  },
  {
   "cell_type": "code",
   "execution_count": 2,
   "metadata": {
    "scrolled": true
   },
   "outputs": [
    {
     "name": "stdout",
     "output_type": "stream",
     "text": [
      "\u001b[01;34mencode-public/2008\u001b[00m\n",
      "└── \u001b[01;34m11\u001b[00m\n",
      "    └── \u001b[01;34m24\u001b[00m\n",
      "        ├── \u001b[01;34m034e3689-9903-4c86-9237-040f8f795b73\u001b[00m\n",
      "        │   └── \u001b[01;31mENCFF001SNN.broadPeak.gz\u001b[00m\n",
      "        ├── \u001b[01;34m0868284e-8c3c-488d-89e6-487cd89971c3\u001b[00m\n",
      "        │   └── ENCFF000AAU.broadPeak.bigbed\n",
      "        ├── \u001b[01;34m0b903d8b-824c-4e34-9b24-a1d23e31d83f\u001b[00m\n",
      "        │   └── \u001b[01;31mENCFF001SNC.broadPeak.gz\u001b[00m\n",
      "        ├── \u001b[01;34m0e0d13f7-4e7c-4cee-95a8-e3dc1c1351d1\u001b[00m\n",
      "        │   └── ENCFF000ABT.broadPeak.bigbed\n",
      "        ├── \u001b[01;34m0e5cd34b-4a2a-4bd5-a063-15a46fa48016\u001b[00m\n",
      "        │   └── \u001b[01;31mENCFF001SMZ.broadPeak.gz\u001b[00m\n",
      "        ├── \u001b[01;34m0ecf15e8-7cf9-4f33-9e1c-71d5b384c12e\u001b[00m\n",
      "        │   └── \u001b[01;31mENCFF001SNQ.broadPeak.gz\u001b[00m\n",
      "        ├── \u001b[01;34m0ffbb597-0ddf-4b0a-96b4-390e9d6dc997\u001b[00m\n",
      "        │   └── ENCFF000ABS.broadPeak.bigbed\n",
      "        ├── \u001b[01;34m16c640cb-a136-4a9e-b539-7ca412d7de00\u001b[00m\n",
      "        │   └── ENCFF000ABM.broadPeak.bigbed\n",
      "        ├── \u001b[01;34m17795607-7209-4d1e-9c0e-2369079984cc\u001b[00m\n",
      "        │   └── ENCFF000ACL.broadPeak.bigbed\n",
      "        ├── \u001b[01;34m1be34318-cf70-442e-856c-2135efb84ec1\u001b[00m\n",
      "        │   └── ENCFF000ABX.broadPeak.bigbed\n",
      "        ├── \u001b[01;34m1c3d3633-8e63-49ff-a6d3-ce54f35a0585\u001b[00m\n",
      "        │   └── ENCFF000ACH.broadPeak.bigbed\n",
      "        ├── \u001b[01;34m1e32d877-8c90-4ed5-aef4-93ecbba6a3f4\u001b[00m\n",
      "        │   └── \u001b[01;31mENCFF001SNG.broadPeak.gz\u001b[00m\n",
      "        ├── \u001b[01;34m1e85b0b0-3016-47cb-b9cb-e593bb3958ed\u001b[00m\n",
      "        │   └── \u001b[01;31mENCFF001SNJ.broadPeak.gz\u001b[00m\n",
      "        ├── \u001b[01;34m1eacb8d0-cfce-4a73-94f7-1117d8d10733\u001b[00m\n",
      "        │   └── \u001b[01;31mENCFF001SNL.broadPeak.gz\u001b[00m\n",
      "        ├── \u001b[01;34m244e305b-d381-4bc3-b6ed-be6dafca82f7\u001b[00m\n",
      "        │   └── ENCFF000ACE.broadPeak.bigbed\n",
      "        ├── \u001b[01;34m289005ad-52c8-44ca-8eca-b159e7639a9c\u001b[00m\n",
      "        │   └── ENCFF000ABZ.broadPeak.bigbed\n",
      "        ├── \u001b[01;34m2c1c2cd8-c521-4895-9db9-c0b6674c4766\u001b[00m\n",
      "        │   └── ENCFF000ABE.broadPeak.bigbed\n",
      "        ├── \u001b[01;34m2d776707-d4e1-4c6a-a5e5-12c0a598d1ba\u001b[00m\n",
      "        │   └── \u001b[01;31mENCFF001SOD.broadPeak.gz\u001b[00m\n",
      "        ├── \u001b[01;34m32792629-f3d8-43fc-bc48-a57a220b40fb\u001b[00m\n",
      "        │   └── ENCFF000ABO.broadPeak.bigbed\n",
      "        ├── \u001b[01;34m332c18ea-9436-44db-8853-0cceee25d13c\u001b[00m\n",
      "        │   └── ENCFF000ACJ.broadPeak.bigbed\n",
      "        ├── \u001b[01;34m3ba22f76-45c0-450c-8c5d-cfebe6bdcd6e\u001b[00m\n",
      "        │   └── ENCFF000ABP.broadPeak.bigbed\n",
      "        ├── \u001b[01;34m3c3b95cb-ae45-43f1-aab5-0f648a466981\u001b[00m\n",
      "        │   └── \u001b[01;31mENCFF001SNE.broadPeak.gz\u001b[00m\n",
      "        ├── \u001b[01;34m3c78a05b-830b-40fd-a27a-574d5d89ab39\u001b[00m\n",
      "        │   └── ENCFF000ACD.broadPeak.bigbed\n",
      "        ├── \u001b[01;34m3f481641-96b3-4415-b48f-b1a92565398c\u001b[00m\n",
      "        │   └── \u001b[01;31mENCFF001SMW.broadPeak.gz\u001b[00m\n",
      "        ├── \u001b[01;34m431617c4-7b80-42f9-bf88-b6ef946f0c17\u001b[00m\n",
      "        │   └── \u001b[01;31mENCFF001SNY.broadPeak.gz\u001b[00m\n",
      "        ├── \u001b[01;34m488783cf-ea96-4c2f-9eea-eef50095025b\u001b[00m\n",
      "        │   └── \u001b[01;31mENCFF001SNB.broadPeak.gz\u001b[00m\n",
      "        ├── \u001b[01;34m4bb4d3d3-2468-450e-bd39-695318b7d62a\u001b[00m\n",
      "        │   └── \u001b[01;31mENCFF001SMN.broadPeak.gz\u001b[00m\n",
      "        ├── \u001b[01;34m4c0d9dd5-5b9e-4f35-8873-33cf882987a8\u001b[00m\n",
      "        │   └── ENCFF000ABB.broadPeak.bigbed\n",
      "        ├── \u001b[01;34m4ccfcc92-c6a1-443d-a8ca-3191f449cce4\u001b[00m\n",
      "        │   └── \u001b[01;31mENCFF001SOI.broadPeak.gz\u001b[00m\n",
      "        ├── \u001b[01;34m4f8d1e57-4f39-4987-8194-052d02d55ec5\u001b[00m\n",
      "        │   └── ENCFF000ABH.broadPeak.bigbed\n",
      "        ├── \u001b[01;34m54bed10f-ff35-451a-90fe-3c3e928dc14e\u001b[00m\n",
      "        │   └── ENCFF000ACC.broadPeak.bigbed\n",
      "        ├── \u001b[01;34m567207ee-2d1d-4b9d-b583-e85233e9a827\u001b[00m\n",
      "        │   └── \u001b[01;31mENCFF001SNK.broadPeak.gz\u001b[00m\n",
      "        ├── \u001b[01;34m57bfee9c-663e-425a-8688-c5f7094e33fc\u001b[00m\n",
      "        │   └── ENCFF000AAY.broadPeak.bigbed\n",
      "        ├── \u001b[01;34m5be158e4-74df-4ce9-a0e1-23c9f432dec4\u001b[00m\n",
      "        │   └── ENCFF000AAZ.broadPeak.bigbed\n",
      "        ├── \u001b[01;34m5ddafe28-4563-478e-b597-c15f464294a7\u001b[00m\n",
      "        │   └── \u001b[01;31mENCFF001SMK.broadPeak.gz\u001b[00m\n",
      "        ├── \u001b[01;34m5e94a451-9ca1-48d2-a9e0-6f0346595f3c\u001b[00m\n",
      "        │   └── \u001b[01;31mENCFF001SMO.broadPeak.gz\u001b[00m\n",
      "        ├── \u001b[01;34m5f5932de-ffc4-48bd-9a43-98b4c09301ec\u001b[00m\n",
      "        │   └── \u001b[01;31mENCFF001SMG.broadPeak.gz\u001b[00m\n",
      "        ├── \u001b[01;34m611accad-5a98-48c5-bb93-fbb86e0bb304\u001b[00m\n",
      "        │   └── ENCFF000AAW.broadPeak.bigbed\n",
      "        ├── \u001b[01;34m62efd081-9cf9-4c31-a8c7-2f399995d5ae\u001b[00m\n",
      "        │   └── \u001b[01;31mENCFF001SMI.broadPeak.gz\u001b[00m\n",
      "        ├── \u001b[01;34m651edcb6-d872-452b-a38c-61a40042481a\u001b[00m\n",
      "        │   └── ENCFF000ACN.broadPeak.bigbed\n",
      "        ├── \u001b[01;34m667e16a7-0c29-45ee-b962-96b08fa30c8e\u001b[00m\n",
      "        │   └── ENCFF000ACI.broadPeak.bigbed\n",
      "        ├── \u001b[01;34m668971d9-77b5-4118-99e4-30683f6134b6\u001b[00m\n",
      "        │   └── \u001b[01;31mENCFF001SNF.broadPeak.gz\u001b[00m\n",
      "        ├── \u001b[01;34m66aa4f99-4615-495f-9e95-be0c44f61947\u001b[00m\n",
      "        │   └── ENCFF000ACK.broadPeak.bigbed\n",
      "        ├── \u001b[01;34m6be94833-af0b-42fb-9de5-dc4db13578ae\u001b[00m\n",
      "        │   └── \u001b[01;31mENCFF001SMM.broadPeak.gz\u001b[00m\n",
      "        ├── \u001b[01;34m6d58d54f-ca2c-4fee-9f23-f19fa89e528b\u001b[00m\n",
      "        │   └── \u001b[01;31mENCFF001SNA.broadPeak.gz\u001b[00m\n",
      "        ├── \u001b[01;34m6e1da7e4-4890-4886-98ef-a5d40a55cc1a\u001b[00m\n",
      "        │   └── ENCFF000ABW.broadPeak.bigbed\n",
      "        ├── \u001b[01;34m7481e34b-3e4c-43a6-9001-e409945ef17e\u001b[00m\n",
      "        │   └── ENCFF000ABA.broadPeak.bigbed\n",
      "        ├── \u001b[01;34m7647cdaf-286f-4a24-b0dd-8f09fbf2f7d8\u001b[00m\n",
      "        │   └── \u001b[01;31mENCFF001SMH.broadPeak.gz\u001b[00m\n",
      "        ├── \u001b[01;34m79385392-d959-471c-ba19-8a14f52e9b47\u001b[00m\n",
      "        │   └── \u001b[01;31mENCFF001SMX.broadPeak.gz\u001b[00m\n",
      "        ├── \u001b[01;34m7d0487b3-9195-4c72-adbd-73bd8bd99290\u001b[00m\n",
      "        │   └── \u001b[01;31mENCFF001SMP.broadPeak.gz\u001b[00m\n",
      "        ├── \u001b[01;34m7d3c160c-cb87-4298-8e2e-b058ff4a5378\u001b[00m\n",
      "        │   └── ENCFF000ACP.broadPeak.bigbed\n",
      "        ├── \u001b[01;34m7f429137-fabf-4964-bef1-e5b8c0154770\u001b[00m\n",
      "        │   └── ENCFF000ABK.broadPeak.bigbed\n",
      "        ├── \u001b[01;34m80b4cf9e-9619-4195-a0d1-fd7b4641d75f\u001b[00m\n",
      "        │   └── \u001b[01;31mENCFF001SND.broadPeak.gz\u001b[00m\n",
      "        ├── \u001b[01;34m82d99fdb-15c2-49bc-9a1b-02354b44cb8e\u001b[00m\n",
      "        │   └── ENCFF000AAS.broadPeak.bigbed\n",
      "        ├── \u001b[01;34m87f53f71-0295-4833-800a-c5bcc803e317\u001b[00m\n",
      "        │   └── \u001b[01;31mENCFF001SOB.broadPeak.gz\u001b[00m\n",
      "        ├── \u001b[01;34m8a1a37ed-8a13-4781-a313-68adb625fce8\u001b[00m\n",
      "        │   └── \u001b[01;31mENCFF001SNP.broadPeak.gz\u001b[00m\n",
      "        ├── \u001b[01;34m8f2bfe07-f406-4b19-9243-c0177bf9b6d9\u001b[00m\n",
      "        │   └── \u001b[01;31mENCFF001SMJ.broadPeak.gz\u001b[00m\n",
      "        ├── \u001b[01;34m91419f73-05fd-4900-9cd1-28a388945e1c\u001b[00m\n",
      "        │   └── \u001b[01;31mENCFF001SNX.broadPeak.gz\u001b[00m\n",
      "        ├── \u001b[01;34m976270ee-213e-455a-9fbd-7365c8e645e5\u001b[00m\n",
      "        │   └── ENCFF000ACM.broadPeak.bigbed\n",
      "        ├── \u001b[01;34m97db0c4f-7c13-4b72-b8b1-497d668ef355\u001b[00m\n",
      "        │   └── \u001b[01;31mENCFF001SNH.broadPeak.gz\u001b[00m\n",
      "        ├── \u001b[01;34m982471ee-3099-4794-9d34-2d9628982ed0\u001b[00m\n",
      "        │   └── ENCFF000ACO.broadPeak.bigbed\n",
      "        ├── \u001b[01;34m993525f6-b1b5-4f9c-99fc-797924f621db\u001b[00m\n",
      "        │   └── \u001b[01;31mENCFF001SNO.broadPeak.gz\u001b[00m\n",
      "        ├── \u001b[01;34ma4f85835-0432-4c41-9626-59daf108c367\u001b[00m\n",
      "        │   └── \u001b[01;31mENCFF001SMQ.broadPeak.gz\u001b[00m\n",
      "        ├── \u001b[01;34ma5df0148-8548-42a5-a2d7-c1e17aa9c2ae\u001b[00m\n",
      "        │   └── ENCFF000ACA.broadPeak.bigbed\n",
      "        ├── \u001b[01;34ma8a2de7f-c573-4e1f-a3e3-73a6ecd52dfe\u001b[00m\n",
      "        │   └── ENCFF000AAV.broadPeak.bigbed\n",
      "        ├── \u001b[01;34ma9be95f6-8bcd-468d-948a-1f660dcfb84b\u001b[00m\n",
      "        │   └── \u001b[01;31mENCFF001SMR.broadPeak.gz\u001b[00m\n",
      "        ├── \u001b[01;34mac3743ba-5baa-480c-a5c7-695405e1bd05\u001b[00m\n",
      "        │   └── \u001b[01;31mENCFF001SNV.broadPeak.gz\u001b[00m\n",
      "        ├── \u001b[01;34maeed97a8-286a-41b2-995a-80d5066f99f3\u001b[00m\n",
      "        │   └── ENCFF000ACB.broadPeak.bigbed\n",
      "        ├── \u001b[01;34mb3fd9cbd-b215-42ef-8eb3-78445174715a\u001b[00m\n",
      "        │   └── ENCFF000ABI.broadPeak.bigbed\n",
      "        ├── \u001b[01;34mb50b6be0-b14c-49b4-9e49-a771a42555f1\u001b[00m\n",
      "        │   └── \u001b[01;31mENCFF001SNW.broadPeak.gz\u001b[00m\n",
      "        ├── \u001b[01;34mb54c4cc4-b863-48f7-8f10-b9fa030c9278\u001b[00m\n",
      "        │   └── ENCFF000AAT.broadPeak.bigbed\n",
      "        ├── \u001b[01;34mbb92ebcb-645f-42a4-87ec-f5881363b2f7\u001b[00m\n",
      "        │   └── ENCFF000ACR.broadPeak.bigbed\n",
      "        ├── \u001b[01;34mbfbcc360-e64b-404f-8e02-3568700ba98b\u001b[00m\n",
      "        │   └── ENCFF000ABD.broadPeak.bigbed\n",
      "        ├── \u001b[01;34mc2157148-b5ea-41c5-8fd8-b6ddc3101da1\u001b[00m\n",
      "        │   └── \u001b[01;31mENCFF001SNM.broadPeak.gz\u001b[00m\n",
      "        ├── \u001b[01;34mc235e02b-ff6f-4180-9c47-2a0e5946cbe9\u001b[00m\n",
      "        │   └── \u001b[01;31mENCFF001SOE.broadPeak.gz\u001b[00m\n",
      "        ├── \u001b[01;34mcb8b940b-4e07-4bc2-9a1a-ab1069ba83f5\u001b[00m\n",
      "        │   └── ENCFF000AAX.broadPeak.bigbed\n",
      "        ├── \u001b[01;34mcdd59b45-4ec4-4f43-a9eb-d4ece54fec15\u001b[00m\n",
      "        │   └── \u001b[01;31mENCFF001SNS.broadPeak.gz\u001b[00m\n",
      "        ├── \u001b[01;34md171cba5-109f-442c-92ec-7d934d6356a2\u001b[00m\n",
      "        │   └── \u001b[01;31mENCFF001SNZ.broadPeak.gz\u001b[00m\n",
      "        ├── \u001b[01;34md2a425a1-c815-4d6f-a855-607f8308dc3a\u001b[00m\n",
      "        │   └── \u001b[01;31mENCFF001SMY.broadPeak.gz\u001b[00m\n",
      "        ├── \u001b[01;34md65e008c-6e08-4e6a-9896-937d41dd0eae\u001b[00m\n",
      "        │   └── ENCFF000ABC.broadPeak.bigbed\n",
      "        ├── \u001b[01;34md66ce095-d123-452c-8888-63c1652a4987\u001b[00m\n",
      "        │   └── ENCFF000ABR.broadPeak.bigbed\n",
      "        ├── \u001b[01;34md6a860f7-1ffb-47fe-9d60-9129d0c31c43\u001b[00m\n",
      "        │   └── \u001b[01;31mENCFF001SOC.broadPeak.gz\u001b[00m\n",
      "        ├── \u001b[01;34md6c45a78-387c-405f-bb70-c1149ba9f630\u001b[00m\n",
      "        │   └── \u001b[01;31mENCFF001SOA.broadPeak.gz\u001b[00m\n",
      "        ├── \u001b[01;34md877b671-4e02-4255-af27-b1db4c715546\u001b[00m\n",
      "        │   └── \u001b[01;31mENCFF001SMV.broadPeak.gz\u001b[00m\n",
      "        ├── \u001b[01;34md9eabefb-f34f-4ee2-87ba-0a4111a5a37e\u001b[00m\n",
      "        │   └── ENCFF000ABL.broadPeak.bigbed\n",
      "        ├── \u001b[01;34mda73e70b-5116-49b9-a884-0c273811f704\u001b[00m\n",
      "        │   └── \u001b[01;31mENCFF001SNR.broadPeak.gz\u001b[00m\n",
      "        ├── \u001b[01;34mddf8511a-a41a-4169-b148-2a402975523b\u001b[00m\n",
      "        │   └── \u001b[01;31mENCFF001SNI.broadPeak.gz\u001b[00m\n",
      "        ├── \u001b[01;34me0e62384-a031-4fc3-aba9-79e464f61494\u001b[00m\n",
      "        │   └── ENCFF000ABV.broadPeak.bigbed\n",
      "        ├── \u001b[01;34meb2c095d-9c91-4818-82a4-d89f0dcf63e9\u001b[00m\n",
      "        │   └── ENCFF000ABQ.broadPeak.bigbed\n",
      "        ├── \u001b[01;34mebde107f-4453-498b-bab0-93c672baa5d2\u001b[00m\n",
      "        │   └── ENCFF000ABU.broadPeak.bigbed\n",
      "        ├── \u001b[01;34mefa3e4fe-3de5-410c-a576-e29422abe70a\u001b[00m\n",
      "        │   └── \u001b[01;31mENCFF001SMS.broadPeak.gz\u001b[00m\n",
      "        ├── \u001b[01;34mf1a19196-d6fc-48f6-85bf-b99d2847b310\u001b[00m\n",
      "        │   └── ENCFF000ABN.broadPeak.bigbed\n",
      "        ├── \u001b[01;34mf1b256b2-1449-4d26-bc60-c8e428b2739a\u001b[00m\n",
      "        │   └── ENCFF000ABY.broadPeak.bigbed\n",
      "        ├── \u001b[01;34mf4db7095-c586-4b12-84ed-e2131ac4858d\u001b[00m\n",
      "        │   └── ENCFF000ABJ.broadPeak.bigbed\n",
      "        ├── \u001b[01;34mf58a2800-5d47-49b6-a1cf-a2836254ae43\u001b[00m\n",
      "        │   └── \u001b[01;31mENCFF001SML.broadPeak.gz\u001b[00m\n",
      "        └── \u001b[01;34mfffc9f7e-e945-4424-8e44-acb2c25c848a\u001b[00m\n",
      "            └── ENCFF000ACQ.broadPeak.bigbed\n",
      "\n",
      "98 directories, 96 files\n"
     ]
    }
   ],
   "source": [
    "!tree encode-public/2008"
   ]
  },
  {
   "cell_type": "markdown",
   "metadata": {},
   "source": [
    "Notice that every file is identified by a UUID (e.g. 034e3689-9903-4c86-9237-040f8f795b73) and accession (e.g. ENCFF001SNN). In addition to the file manifest you can always append the UUID or accession to the end of https://www.encodeproject/ to get more information about the file.\n",
    "\n",
    "For example these are equivalent:\n",
    "* https://www.encodeproject.org/034e3689-9903-4c86-9237-040f8f795b73\n",
    "* https://www.encodeproject.org/ENCFF001SNN"
   ]
  },
  {
   "cell_type": "markdown",
   "metadata": {},
   "source": [
    "# Open ENCODE bigWig using local path"
   ]
  },
  {
   "cell_type": "markdown",
   "metadata": {},
   "source": [
    "The nice thing about having a Jupyter notebook running on the EC2 instance is that we can open the file manfiest directly in *pandas*."
   ]
  },
  {
   "cell_type": "code",
   "execution_count": 3,
   "metadata": {},
   "outputs": [],
   "source": [
    "%matplotlib inline\n",
    "%config InlineBackend.figure_format = 'retina'\n",
    "\n",
    "import numpy as np\n",
    "import matplotlib.pyplot as plt\n",
    "import pandas as pd\n",
    "import pyBigWig\n",
    "import seaborn as sns"
   ]
  },
  {
   "cell_type": "markdown",
   "metadata": {},
   "source": [
    "Open the tab-delimited manifest."
   ]
  },
  {
   "cell_type": "code",
   "execution_count": 4,
   "metadata": {},
   "outputs": [],
   "source": [
    "files = pd.read_csv('encode-public/encode_file_manifest.tsv', sep='\\t')"
   ]
  },
  {
   "cell_type": "markdown",
   "metadata": {},
   "source": [
    "Every row is a file (~400,000 files in the bucket)."
   ]
  },
  {
   "cell_type": "code",
   "execution_count": 5,
   "metadata": {},
   "outputs": [
    {
     "data": {
      "text/plain": [
       "(412361, 18)"
      ]
     },
     "execution_count": 5,
     "metadata": {},
     "output_type": "execute_result"
    }
   ],
   "source": [
    "files.shape"
   ]
  },
  {
   "cell_type": "markdown",
   "metadata": {},
   "source": [
    "The columns contain important metadata about the files, such as their format and full S3 key."
   ]
  },
  {
   "cell_type": "code",
   "execution_count": 6,
   "metadata": {},
   "outputs": [
    {
     "data": {
      "text/plain": [
       "Index(['accession', 'status', 'file_format', 'file_type', 'assembly',\n",
       "       'award.rfa', 's3_uri', 'cloud_metadata.url', 'dataset', 'lab.@id',\n",
       "       'output_type', 'output_category', 'file_size', 'date_created', 'md5sum',\n",
       "       'cloud_metadata.md5sum_base64', 'replicate_libraries',\n",
       "       'analysis_step_version.analysis_step.name'],\n",
       "      dtype='object')"
      ]
     },
     "execution_count": 6,
     "metadata": {},
     "output_type": "execute_result"
    }
   ],
   "source": [
    "files.columns"
   ]
  },
  {
   "cell_type": "markdown",
   "metadata": {},
   "source": [
    "We can see how many files there are by format."
   ]
  },
  {
   "cell_type": "code",
   "execution_count": 7,
   "metadata": {},
   "outputs": [
    {
     "data": {
      "text/plain": [
       "bigWig      126742\n",
       "bam          78986\n",
       "bed          70165\n",
       "bigBed       65757\n",
       "fastq        47718\n",
       "tsv          15459\n",
       "tagAlign      2268\n",
       "tar           1657\n",
       "gtf           1125\n",
       "gff            720\n",
       "idat           554\n",
       "hdf5           280\n",
       "rcc            227\n",
       "sam            188\n",
       "wig            188\n",
       "hic            160\n",
       "csfasta         49\n",
       "csqual          37\n",
       "vcf             37\n",
       "fasta           27\n",
       "bedpe            9\n",
       "CEL              8\n",
       "Name: file_format, dtype: int64"
      ]
     },
     "execution_count": 7,
     "metadata": {},
     "output_type": "execute_result"
    }
   ],
   "source": [
    "files.file_format.value_counts()"
   ]
  },
  {
   "cell_type": "markdown",
   "metadata": {},
   "source": [
    "We can also filter the manifest to only include select files. For example all the GRCh38 bigWigs from [ENCSR901SIL](https://www.encodeproject.org/experiments/ENCSR901SIL/), a H3K4me3 ChIP-seq experiment in heart tissue."
   ]
  },
  {
   "cell_type": "code",
   "execution_count": 8,
   "metadata": {},
   "outputs": [
    {
     "data": {
      "text/html": [
       "<div>\n",
       "<style scoped>\n",
       "    .dataframe tbody tr th:only-of-type {\n",
       "        vertical-align: middle;\n",
       "    }\n",
       "\n",
       "    .dataframe tbody tr th {\n",
       "        vertical-align: top;\n",
       "    }\n",
       "\n",
       "    .dataframe thead th {\n",
       "        text-align: right;\n",
       "    }\n",
       "</style>\n",
       "<table border=\"1\" class=\"dataframe\">\n",
       "  <thead>\n",
       "    <tr style=\"text-align: right;\">\n",
       "      <th></th>\n",
       "      <th>accession</th>\n",
       "      <th>dataset</th>\n",
       "      <th>file_format</th>\n",
       "      <th>assembly</th>\n",
       "      <th>output_type</th>\n",
       "      <th>s3_uri</th>\n",
       "    </tr>\n",
       "  </thead>\n",
       "  <tbody>\n",
       "    <tr>\n",
       "      <th>0</th>\n",
       "      <td>ENCFF254JZR</td>\n",
       "      <td>/experiments/ENCSR901SIL/</td>\n",
       "      <td>bigWig</td>\n",
       "      <td>GRCh38</td>\n",
       "      <td>fold change over control</td>\n",
       "      <td>s3://encode-public/2017/03/21/e8e286f4-14a2-4c...</td>\n",
       "    </tr>\n",
       "    <tr>\n",
       "      <th>1</th>\n",
       "      <td>ENCFF112WFU</td>\n",
       "      <td>/experiments/ENCSR901SIL/</td>\n",
       "      <td>bigWig</td>\n",
       "      <td>GRCh38</td>\n",
       "      <td>signal p-value</td>\n",
       "      <td>s3://encode-public/2017/03/21/52a1bef1-d28c-4e...</td>\n",
       "    </tr>\n",
       "  </tbody>\n",
       "</table>\n",
       "</div>"
      ],
      "text/plain": [
       "     accession                    dataset file_format assembly  \\\n",
       "0  ENCFF254JZR  /experiments/ENCSR901SIL/      bigWig   GRCh38   \n",
       "1  ENCFF112WFU  /experiments/ENCSR901SIL/      bigWig   GRCh38   \n",
       "\n",
       "                output_type                                             s3_uri  \n",
       "0  fold change over control  s3://encode-public/2017/03/21/e8e286f4-14a2-4c...  \n",
       "1            signal p-value  s3://encode-public/2017/03/21/52a1bef1-d28c-4e...  "
      ]
     },
     "execution_count": 8,
     "metadata": {},
     "output_type": "execute_result"
    }
   ],
   "source": [
    "filtered_files = files[\n",
    "    (files.dataset == '/experiments/ENCSR901SIL/')\n",
    "    & (files.file_format == 'bigWig')\n",
    "    & (files.assembly == 'GRCh38')\n",
    "].reset_index(drop=True)\n",
    "filtered_files[['accession', 'dataset', 'file_format', 'assembly', 'output_type', 's3_uri']]"
   ]
  },
  {
   "cell_type": "markdown",
   "metadata": {},
   "source": [
    "By removing the *s3://* from the s3_uri we will have the file paths to our locally mounted bucket."
   ]
  },
  {
   "cell_type": "code",
   "execution_count": 9,
   "metadata": {},
   "outputs": [],
   "source": [
    "filtered_files['local_path'] = filtered_files.s3_uri.apply(lambda x: x.replace('s3://', ''))"
   ]
  },
  {
   "cell_type": "markdown",
   "metadata": {},
   "source": [
    "Now we can open the signal p-value bigWig using `pyBigWig` and the local path. "
   ]
  },
  {
   "cell_type": "code",
   "execution_count": 10,
   "metadata": {},
   "outputs": [
    {
     "data": {
      "text/plain": [
       "'encode-public/2017/03/21/52a1bef1-d28c-4e7e-849d-c7fa4da3c589/ENCFF112WFU.bigWig'"
      ]
     },
     "execution_count": 10,
     "metadata": {},
     "output_type": "execute_result"
    }
   ],
   "source": [
    "path_to_ENCFF112WFU = filtered_files.iloc[1].local_path\n",
    "path_to_ENCFF112WFU"
   ]
  },
  {
   "cell_type": "code",
   "execution_count": 11,
   "metadata": {},
   "outputs": [],
   "source": [
    "bw = pyBigWig.open(path_to_ENCFF112WFU)"
   ]
  },
  {
   "cell_type": "markdown",
   "metadata": {},
   "source": [
    "# Explore bigWig file"
   ]
  },
  {
   "cell_type": "code",
   "execution_count": 12,
   "metadata": {},
   "outputs": [
    {
     "data": {
      "text/plain": [
       "{'chrUn_KI270748v1': 93321,\n",
       " 'chrUn_KI270337v1': 1121,\n",
       " 'chrUn_KI270749v1': 158759,\n",
       " 'chr1_KI270713v1_random': 40745,\n",
       " 'chrUn_KI270418v1': 2145,\n",
       " 'chr13': 114364328,\n",
       " 'chr12': 133275309,\n",
       " 'chrUn_KI270304v1': 2165,\n",
       " 'chr10': 133797422,\n",
       " 'chr17': 83257441,\n",
       " 'chr16': 90338345,\n",
       " 'chr15': 101991189,\n",
       " 'chrUn_KI270305v1': 1472,\n",
       " 'chrUn_GL000218v1': 161147,\n",
       " 'chr19': 58617616,\n",
       " 'chr18': 80373285,\n",
       " 'chrUn_KI270320v1': 4416,\n",
       " 'chrUn_GL000219v1': 179198,\n",
       " 'chrUn_KI270518v1': 2186,\n",
       " 'chr3_GL000221v1_random': 155397,\n",
       " 'chrUn_GL000213v1': 164239,\n",
       " 'chrUn_KI270746v1': 66486,\n",
       " 'chrUn_KI270516v1': 1300,\n",
       " 'chr16_KI270728v1_random': 1872759,\n",
       " 'chrUn_KI270521v1': 7642,\n",
       " 'chrUn_GL000214v1': 137718,\n",
       " 'chr9_KI270720v1_random': 39050,\n",
       " 'chrUn_KI270593v1': 3041,\n",
       " 'chrUn_KI270538v1': 91309,\n",
       " 'chr22_KI270731v1_random': 150754,\n",
       " 'chr1_KI270707v1_random': 32032,\n",
       " 'chrUn_KI270322v1': 21476,\n",
       " 'chrUn_KI270579v1': 31033,\n",
       " 'chr1_KI270708v1_random': 127682,\n",
       " 'chrUn_KI270378v1': 1048,\n",
       " 'chr5': 181538259,\n",
       " 'chr15_KI270727v1_random': 448248,\n",
       " 'chrUn_KI270303v1': 1942,\n",
       " 'chrUn_KI270333v1': 2699,\n",
       " 'chrUn_KI270435v1': 92983,\n",
       " 'chrUn_KI270741v1': 157432,\n",
       " 'chrUn_KI270302v1': 2274,\n",
       " 'chrUn_KI270743v1': 210658,\n",
       " 'chrUn_KI270744v1': 168472,\n",
       " 'chr11': 135086622,\n",
       " 'chrUn_KI270745v1': 41891,\n",
       " 'chr22_KI270732v1_random': 41543,\n",
       " 'chrUn_GL000216v2': 176608,\n",
       " 'chrUn_GL000195v1': 182896,\n",
       " 'chrUn_KI270742v1': 186739,\n",
       " 'chr14_GL000194v1_random': 191469,\n",
       " 'chrUn_KI270590v1': 4685,\n",
       " 'chrUn_KI270751v1': 150742,\n",
       " 'chrUn_KI270750v1': 148850,\n",
       " 'chr9_KI270719v1_random': 176845,\n",
       " 'chr14': 107043718,\n",
       " 'chr22_KI270737v1_random': 103838,\n",
       " 'chrUn_KI270362v1': 3530,\n",
       " 'chrUn_KI270363v1': 1803,\n",
       " 'chrUn_KI270508v1': 1951,\n",
       " 'chr17_GL000205v2_random': 185591,\n",
       " 'chrUn_KI270509v1': 2318,\n",
       " 'chrUn_KI270512v1': 22689,\n",
       " 'chr4_GL000008v2_random': 209709,\n",
       " 'chrUn_KI270753v1': 62944,\n",
       " 'chr17_KI270730v1_random': 112551,\n",
       " 'chrUn_KI270755v1': 36723,\n",
       " 'chr22_KI270734v1_random': 165050,\n",
       " 'chrUn_KI270422v1': 1445,\n",
       " 'chr22_KI270736v1_random': 181920,\n",
       " 'chrUn_KI270417v1': 2043,\n",
       " 'chr1_KI270711v1_random': 42210,\n",
       " 'chr14_KI270726v1_random': 43739,\n",
       " 'chrUn_KI270420v1': 2321,\n",
       " 'chr11_KI270721v1_random': 100316,\n",
       " 'chrUn_KI270315v1': 2276,\n",
       " 'chrUn_KI270424v1': 2140,\n",
       " 'chrUn_KI270588v1': 6158,\n",
       " 'chr22_KI270739v1_random': 73985,\n",
       " 'chr14_KI270723v1_random': 38115,\n",
       " 'chrUn_KI270522v1': 5674,\n",
       " 'chrUn_KI270754v1': 40191,\n",
       " 'chr14_GL000009v2_random': 201709,\n",
       " 'chr14_KI270724v1_random': 39555,\n",
       " 'chrUn_KI270517v1': 3253,\n",
       " 'chrUn_KI270429v1': 1361,\n",
       " 'chr1_KI270709v1_random': 66860,\n",
       " 'chrUn_KI270580v1': 1553,\n",
       " 'chrUn_KI270448v1': 7992,\n",
       " 'chrUn_KI270507v1': 5353,\n",
       " 'chr1_KI270706v1_random': 175055,\n",
       " 'chrUn_KI270584v1': 4513,\n",
       " 'chrUn_KI270336v1': 1026,\n",
       " 'chrUn_KI270747v1': 198735,\n",
       " 'chrUn_KI270383v1': 1750,\n",
       " 'chrUn_KI270419v1': 1029,\n",
       " 'chr14_KI270722v1_random': 194050,\n",
       " 'chrUn_KI270519v1': 138126,\n",
       " 'chr1_KI270712v1_random': 176043,\n",
       " 'chrUn_KI270442v1': 392061,\n",
       " 'chr22_KI270733v1_random': 179772,\n",
       " 'chrUn_KI270366v1': 8320,\n",
       " 'chr9_KI270718v1_random': 38054,\n",
       " 'chrUn_KI270423v1': 981,\n",
       " 'chrUn_KI270587v1': 2969,\n",
       " 'chrUn_KI270515v1': 6361,\n",
       " 'chrUn_KI270582v1': 6504,\n",
       " 'chrUn_KI270411v1': 2646,\n",
       " 'chrUn_KI270583v1': 1400,\n",
       " 'chrUn_KI270330v1': 1652,\n",
       " 'chrUn_KI270511v1': 8127,\n",
       " 'chr4': 190214555,\n",
       " 'chr9_KI270717v1_random': 40062,\n",
       " 'chr17_KI270729v1_random': 280839,\n",
       " 'chr2': 242193529,\n",
       " 'chr5_GL000208v1_random': 92689,\n",
       " 'chr1_KI270710v1_random': 40176,\n",
       " 'chrUn_KI270438v1': 112505,\n",
       " 'chrUn_KI270591v1': 5796,\n",
       " 'chrUn_KI270382v1': 4215,\n",
       " 'chr1_KI270714v1_random': 41717,\n",
       " 'chr14_KI270725v1_random': 172810,\n",
       " 'chrUn_KI270390v1': 2387,\n",
       " 'chr14_GL000225v1_random': 211173,\n",
       " 'chrUn_KI270310v1': 1201,\n",
       " 'chrY': 57227415,\n",
       " 'chrX': 156040895,\n",
       " 'chrUn_GL000220v1': 161802,\n",
       " 'chrM': 16569,\n",
       " 'chrUn_KI270393v1': 1308,\n",
       " 'chrUn_KI270392v1': 971,\n",
       " 'chrUn_GL000224v1': 179693,\n",
       " 'chr22_KI270738v1_random': 99375,\n",
       " 'chrUn_KI270467v1': 3920,\n",
       " 'chrUn_KI270529v1': 1899,\n",
       " 'chrUn_KI270539v1': 993,\n",
       " 'chrUn_KI270757v1': 71251,\n",
       " 'chr22_KI270735v1_random': 42811,\n",
       " 'chr22': 50818468,\n",
       " 'chr20': 64444167,\n",
       " 'chr21': 46709983,\n",
       " 'chr2_KI270716v1_random': 153799,\n",
       " 'chrUn_KI270468v1': 4055,\n",
       " 'chr7': 159345973,\n",
       " 'chr6': 170805979,\n",
       " 'chrUn_KI270414v1': 2489,\n",
       " 'chrUn_KI270756v1': 79590,\n",
       " 'chr3': 198295559,\n",
       " 'chrUn_KI270589v1': 44474,\n",
       " 'chr1': 248956422,\n",
       " 'chrUn_KI270510v1': 2415,\n",
       " 'chrUn_KI270466v1': 1233,\n",
       " 'chrUn_KI270395v1': 1143,\n",
       " 'chr9': 138394717,\n",
       " 'chr8': 145138636,\n",
       " 'chrUn_KI270412v1': 1179,\n",
       " 'chrUn_KI270465v1': 1774,\n",
       " 'chrUn_KI270581v1': 7046}"
      ]
     },
     "execution_count": 12,
     "metadata": {},
     "output_type": "execute_result"
    }
   ],
   "source": [
    "bw.chroms()"
   ]
  },
  {
   "cell_type": "code",
   "execution_count": null,
   "metadata": {},
   "outputs": [],
   "source": []
  }
 ],
 "metadata": {
  "anaconda-cloud": {},
  "kernelspec": {
   "display_name": "Python 3",
   "language": "python",
   "name": "python3"
  },
  "language_info": {
   "codemirror_mode": {
    "name": "ipython",
    "version": 3
   },
   "file_extension": ".py",
   "mimetype": "text/x-python",
   "name": "python",
   "nbconvert_exporter": "python",
   "pygments_lexer": "ipython3",
   "version": "3.7.3"
  }
 },
 "nbformat": 4,
 "nbformat_minor": 2
}
