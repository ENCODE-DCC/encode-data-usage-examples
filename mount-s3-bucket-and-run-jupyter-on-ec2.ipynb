{
 "cells": [
  {
   "cell_type": "markdown",
   "metadata": {},
   "source": [
    "![encodelogo](images/encodelogo.gif)"
   ]
  },
  {
   "cell_type": "markdown",
   "metadata": {},
   "source": [
    "# Exploring ENCODE data from EC2 with Jupyter notebook"
   ]
  },
  {
   "cell_type": "markdown",
   "metadata": {},
   "source": [
    "This notebook demonstrates how to mount *s3://encode-public* on an EC2 instance using Goofys, which makes an S3 bucket appear as a normal file system, and is useful for tools that expect a local file path. Once the bucket is mounted we can launch a Jupyter notebook on the instance and connect to it remotely. The benefit of using EC2 is that the compute is scalable to the analysis you would like to perform, and you don't have to download anything locally."
   ]
  },
  {
   "cell_type": "markdown",
   "metadata": {},
   "source": [
    "# Spin up instance"
   ]
  },
  {
   "cell_type": "markdown",
   "metadata": {},
   "source": [
    "We will log into our AWS console and start an EC2 instance from a base Ubuntu image (it is also possible to find images that include most of the dependencies that we will install manually below)."
   ]
  },
  {
   "cell_type": "markdown",
   "metadata": {},
   "source": [
    "![launch1](images/ec2_goofys_jupyter/launch1.png)"
   ]
  },
  {
   "cell_type": "markdown",
   "metadata": {},
   "source": [
    "![launch2](images/ec2_goofys_jupyter/launch2.png)"
   ]
  },
  {
   "cell_type": "markdown",
   "metadata": {},
   "source": [
    "![launch3](images/ec2_goofys_jupyter/launch3.png)"
   ]
  },
  {
   "cell_type": "markdown",
   "metadata": {},
   "source": [
    "![launch4](images/ec2_goofys_jupyter/launch4.png)"
   ]
  },
  {
   "cell_type": "markdown",
   "metadata": {},
   "source": [
    "![launch5](images/ec2_goofys_jupyter/launch5.png)"
   ]
  },
  {
   "cell_type": "markdown",
   "metadata": {},
   "source": [
    "For this example we will use `t2.xlarge` instance size. Make sure to provide or create a key pair for your instance so we can SSH on later."
   ]
  },
  {
   "cell_type": "markdown",
   "metadata": {},
   "source": [
    "# SSH into the instance"
   ]
  },
  {
   "cell_type": "markdown",
   "metadata": {},
   "source": [
    "Search for the instance you just created and find its public DNS."
   ]
  },
  {
   "cell_type": "markdown",
   "metadata": {},
   "source": [
    "![launch6](images/ec2_goofys_jupyter/launch6.png)"
   ]
  },
  {
   "cell_type": "markdown",
   "metadata": {},
   "source": [
    "Open a terminal and connect to the instance using SSH, filling in your secret key and instance address:\n",
    "```\n",
    "$ ssh -i ~/.ssh/keenan.pem ubuntu@ec2-54-191-241-6.us-west-2.compute.amazonaws.com\n",
    "```"
   ]
  },
  {
   "cell_type": "markdown",
   "metadata": {},
   "source": [
    "# Install dependencies"
   ]
  },
  {
   "cell_type": "markdown",
   "metadata": {},
   "source": [
    "We will install:\n",
    "\n",
    "[Anaconda](https://www.anaconda.com/distribution/)\n",
    "```\n",
    "$ curl -O https://repo.anaconda.com/archive/Anaconda3-2019.03-Linux-x86_64.sh\n",
    "$ bash Anaconda3-2019.03-Linux-x86_64.sh\n",
    "$ source ~/.bashrc\n",
    "$ conda create -n encode-public python=3.7\n",
    "$ conda activate encode-public\n",
    "```\n",
    "\n",
    "[awscli](https://github.com/aws/aws-cli)\n",
    "```\n",
    "$ pip install awscli\n",
    "```\n",
    "\n",
    "[Jupyter notebook](https://jupyter.org/)\n",
    "```\n",
    "$ conda install jupyter\n",
    "```\n",
    "\n",
    "[Go](https://golang.org/)\n",
    "```\n",
    "$ sudo apt-get update\n",
    "$ sudo apt-get install golang-go\n",
    "```\n",
    "\n",
    "\n",
    "[Goofys](https://github.com/kahing/goofys)\n",
    "```\n",
    "$ export GOPATH=$HOME/work\n",
    "$ go get github.com/kahing/goofys\n",
    "$ go install github.com/kahing/goofys\n",
    "```\n",
    "\n",
    "[Tree](http://manpages.ubuntu.com/manpages/trusty/man1/tree.1.html)\n",
    "```\n",
    "$ sudo apt-get install tree\n",
    "```"
   ]
  },
  {
   "cell_type": "markdown",
   "metadata": {},
   "source": [
    "# Mount S3 bucket"
   ]
  },
  {
   "cell_type": "markdown",
   "metadata": {},
   "source": [
    "Goofys expects valid AWS credentials (though they don't need to have permission to do anything since we are mounting a public bucket). Run `aws configure` and enter your *aws_access_key_id*, *aws_secret_access_key*, and default region (e.g. `us-west-2`)."
   ]
  },
  {
   "cell_type": "markdown",
   "metadata": {},
   "source": [
    "Mount *s3://encode-public* to local folder called *encode-public*:"
   ]
  },
  {
   "cell_type": "markdown",
   "metadata": {},
   "source": [
    "```\n",
    "$ mkdir encode-public\n",
    "$ $GOPATH/bin/goofys encode-public/ encode-public/\n",
    "```"
   ]
  },
  {
   "cell_type": "markdown",
   "metadata": {},
   "source": [
    "# Start Jupyter notebook"
   ]
  },
  {
   "cell_type": "markdown",
   "metadata": {},
   "source": [
    "Now we can run a Jupyter notebook on the EC2 instance and connect to it remotely.\n",
    "```\n",
    "$ jupyter notebook --no-browser --port=8888\n",
    "```\n",
    "Note the token in the returned URL (e.g. http://localhost:8888/?token=213b9a2799fe83807ab9e2e1254677ed3eb82cea9d05f452)."
   ]
  },
  {
   "cell_type": "markdown",
   "metadata": {},
   "source": [
    "# Link local port to remote port"
   ]
  },
  {
   "cell_type": "markdown",
   "metadata": {},
   "source": [
    "Open another terminal window and type (again filling in your details):"
   ]
  },
  {
   "cell_type": "markdown",
   "metadata": {},
   "source": [
    "```\n",
    "$ ssh -i ~/.ssh/keenan.pem -L 8000:localhost:8888 ubuntu@ec2-54-191-241-6.us-west-2.compute.amazonaws.com\n",
    "```"
   ]
  },
  {
   "cell_type": "markdown",
   "metadata": {},
   "source": [
    "This links your local 8000 port to the Jupyter notebook running on port 8888 of your EC2 instance. Launch a browser and type in `localhost:8000`. You should see a Jupyter window asking you for the token from above."
   ]
  },
  {
   "cell_type": "markdown",
   "metadata": {},
   "source": [
    "![launch5](images/ec2_goofys_jupyter/launch7.png)"
   ]
  },
  {
   "cell_type": "markdown",
   "metadata": {},
   "source": [
    "# Create notebook"
   ]
  },
  {
   "cell_type": "markdown",
   "metadata": {},
   "source": [
    "Create a new Jupyter notebook using Python 3."
   ]
  },
  {
   "cell_type": "markdown",
   "metadata": {},
   "source": [
    "![launch8](images/ec2_goofys_jupyter/launch8.png)"
   ]
  },
  {
   "cell_type": "markdown",
   "metadata": {},
   "source": [
    "# Open ENCODE file using local path"
   ]
  },
  {
   "cell_type": "markdown",
   "metadata": {},
   "source": [
    "In the notebook we can `ls` the *encode-project* folder to list the contents of the S3 bucket."
   ]
  },
  {
   "cell_type": "code",
   "execution_count": 1,
   "metadata": {},
   "outputs": [
    {
     "name": "stdout",
     "output_type": "stream",
     "text": [
      "2008  2010  2012  2014\t2016  2018  encode_file_manifest.tsv\r\n",
      "2009  2011  2013  2015\t2017  2019  robots.txt\r\n"
     ]
    }
   ],
   "source": [
    "!ls encode-public/"
   ]
  },
  {
   "cell_type": "code",
   "execution_count": null,
   "metadata": {},
   "outputs": [],
   "source": []
  },
  {
   "cell_type": "code",
   "execution_count": null,
   "metadata": {},
   "outputs": [],
   "source": []
  }
 ],
 "metadata": {
  "anaconda-cloud": {},
  "kernelspec": {
   "display_name": "Python 3",
   "language": "python",
   "name": "python3"
  },
  "language_info": {
   "codemirror_mode": {
    "name": "ipython",
    "version": 3
   },
   "file_extension": ".py",
   "mimetype": "text/x-python",
   "name": "python",
   "nbconvert_exporter": "python",
   "pygments_lexer": "ipython3",
   "version": "3.7.3"
  }
 },
 "nbformat": 4,
 "nbformat_minor": 2
}
